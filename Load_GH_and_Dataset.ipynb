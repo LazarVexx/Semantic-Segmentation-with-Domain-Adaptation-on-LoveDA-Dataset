{
  "nbformat": 4,
  "nbformat_minor": 0,
  "metadata": {
    "colab": {
      "provenance": []
    },
    "kernelspec": {
      "name": "python3",
      "display_name": "Python 3"
    },
    "language_info": {
      "name": "python"
    }
  },
  "cells": [
    {
      "cell_type": "code",
      "source": [
        "!pip install torch\n",
        "!pip install numpy\n",
        "!pip install tensorboardX\n",
        "!pip install opencv-python\n",
        "!pip install Pillow\n",
        "!pip install yacs\n",
        "!pip install tqdm"
      ],
      "metadata": {
        "colab": {
          "base_uri": "https://localhost:8080/"
        },
        "id": "NFy7sbYs5qH7",
        "outputId": "13d9f3b1-d413-45b4-9fce-f6d898b1adf3"
      },
      "execution_count": 3,
      "outputs": [
        {
          "output_type": "stream",
          "name": "stdout",
          "text": [
            "Requirement already satisfied: torch in /usr/local/lib/python3.10/dist-packages (2.5.1+cu121)\n",
            "Requirement already satisfied: filelock in /usr/local/lib/python3.10/dist-packages (from torch) (3.16.1)\n",
            "Requirement already satisfied: typing-extensions>=4.8.0 in /usr/local/lib/python3.10/dist-packages (from torch) (4.12.2)\n",
            "Requirement already satisfied: networkx in /usr/local/lib/python3.10/dist-packages (from torch) (3.4.2)\n",
            "Requirement already satisfied: jinja2 in /usr/local/lib/python3.10/dist-packages (from torch) (3.1.4)\n",
            "Requirement already satisfied: fsspec in /usr/local/lib/python3.10/dist-packages (from torch) (2024.10.0)\n",
            "Requirement already satisfied: sympy==1.13.1 in /usr/local/lib/python3.10/dist-packages (from torch) (1.13.1)\n",
            "Requirement already satisfied: mpmath<1.4,>=1.1.0 in /usr/local/lib/python3.10/dist-packages (from sympy==1.13.1->torch) (1.3.0)\n",
            "Requirement already satisfied: MarkupSafe>=2.0 in /usr/local/lib/python3.10/dist-packages (from jinja2->torch) (3.0.2)\n",
            "Requirement already satisfied: numpy in /usr/local/lib/python3.10/dist-packages (1.26.4)\n",
            "Requirement already satisfied: tensorboardX in /usr/local/lib/python3.10/dist-packages (2.6.2.2)\n",
            "Requirement already satisfied: numpy in /usr/local/lib/python3.10/dist-packages (from tensorboardX) (1.26.4)\n",
            "Requirement already satisfied: packaging in /usr/local/lib/python3.10/dist-packages (from tensorboardX) (24.2)\n",
            "Requirement already satisfied: protobuf>=3.20 in /usr/local/lib/python3.10/dist-packages (from tensorboardX) (4.25.5)\n",
            "Requirement already satisfied: opencv-python in /usr/local/lib/python3.10/dist-packages (4.10.0.84)\n",
            "Requirement already satisfied: numpy>=1.21.2 in /usr/local/lib/python3.10/dist-packages (from opencv-python) (1.26.4)\n",
            "Requirement already satisfied: Pillow in /usr/local/lib/python3.10/dist-packages (11.0.0)\n",
            "Requirement already satisfied: yacs in /usr/local/lib/python3.10/dist-packages (0.1.8)\n",
            "Requirement already satisfied: PyYAML in /usr/local/lib/python3.10/dist-packages (from yacs) (6.0.2)\n",
            "Requirement already satisfied: tqdm in /usr/local/lib/python3.10/dist-packages (4.67.1)\n"
          ]
        }
      ]
    },
    {
      "source": [
        "!git clone https://github.com/LucaIanniello/AML2024.git"
      ],
      "cell_type": "code",
      "metadata": {
        "colab": {
          "base_uri": "https://localhost:8080/"
        },
        "id": "4Swqtu_Dd4oY",
        "outputId": "df9c436d-4916-48d9-807e-25c96c5fee0a"
      },
      "execution_count": 13,
      "outputs": [
        {
          "output_type": "stream",
          "name": "stdout",
          "text": [
            "fatal: destination path 'AML2024' already exists and is not an empty directory.\n"
          ]
        }
      ]
    },
    {
      "cell_type": "code",
      "source": [
        "import os\n",
        "import zipfile\n",
        "import subprocess\n",
        "\n",
        "# Funzione per scaricare un file e decomprimerlo\n",
        "def download_and_extract(url, zip_path, extract_path):\n",
        "    # Se il file ZIP esiste già, non scaricarlo di nuovo\n",
        "    if not os.path.exists(zip_path):\n",
        "        print(f\"Downloading {url} to {zip_path}...\")\n",
        "        # Scarica il file usando curl\n",
        "        try:\n",
        "            subprocess.run([\"curl\", \"-L\", \"-o\", zip_path, url], check=True)\n",
        "        except subprocess.CalledProcessError as e:\n",
        "            print(f\"Error downloading file: {e}\")\n",
        "            return\n",
        "\n",
        "    # Crea la directory di estrazione se non esiste\n",
        "    os.makedirs(extract_path, exist_ok=True)\n",
        "\n",
        "    # Estrai il file ZIP\n",
        "    try:\n",
        "        with zipfile.ZipFile(zip_path, 'r') as zip_ref:\n",
        "            zip_ref.extractall(extract_path)\n",
        "        print(f\"Extracted files to {extract_path}\")\n",
        "    except zipfile.BadZipFile as e:\n",
        "        print(f\"Error extracting {zip_path}: {e}\")\n",
        "        return\n",
        "\n",
        "    # Elenca i file estratti\n",
        "    extracted_files = os.listdir(extract_path)\n",
        "    print(f\"Extracted files in {extract_path}:\", extracted_files)\n",
        "\n",
        "# Percorsi principali\n",
        "base_dir = os.path.expanduser(\"~/AML2024/PIDNet/data/LoveDa\")\n",
        "\n",
        "# Crea la directory base se non esiste\n",
        "os.makedirs(base_dir, exist_ok=True)\n",
        "\n",
        "# Dataset Train\n",
        "train_url = \"https://zenodo.org/records/5706578/files/Train.zip?download=1\"\n",
        "train_zip_path = os.path.join(base_dir, \"Train.zip\")\n",
        "train_extract_path = os.path.join(base_dir, \"Train\")\n",
        "download_and_extract(train_url, train_zip_path, train_extract_path)\n",
        "\n",
        "# Dataset Val\n",
        "val_url = \"https://zenodo.org/records/5706578/files/Val.zip?download=1\"\n",
        "val_zip_path = os.path.join(base_dir, \"Val.zip\")\n",
        "val_extract_path = os.path.join(base_dir, \"Val\")\n",
        "download_and_extract(val_url, val_zip_path, val_extract_path)\n",
        "\n",
        "# Dataset Test\n",
        "test_url = \"https://zenodo.org/records/5706578/files/Test.zip?download=1\"\n",
        "test_zip_path = os.path.join(base_dir, \"Test.zip\")\n",
        "test_extract_path = os.path.join(base_dir, \"Test\")\n",
        "download_and_extract(test_url, test_zip_path, test_extract_path)\n",
        "\n"
      ],
      "metadata": {
        "colab": {
          "base_uri": "https://localhost:8080/"
        },
        "id": "LU9ki1-0hPzs",
        "outputId": "142e6516-08fd-4b1b-8259-f0605f1e01f5"
      },
      "execution_count": 17,
      "outputs": [
        {
          "output_type": "stream",
          "name": "stdout",
          "text": [
            "Downloading https://zenodo.org/records/5706578/files/Train.zip?download=1 to /root/AML2024/PIDNet/data/LoveDa/Train.zip...\n",
            "Extracted files to /root/AML2024/PIDNet/data/LoveDa/Train\n",
            "Extracted files in /root/AML2024/PIDNet/data/LoveDa/Train: ['Train']\n",
            "Downloading https://zenodo.org/records/5706578/files/Val.zip?download=1 to /root/AML2024/PIDNet/data/LoveDa/Val.zip...\n",
            "Extracted files to /root/AML2024/PIDNet/data/LoveDa/Val\n",
            "Extracted files in /root/AML2024/PIDNet/data/LoveDa/Val: ['Val']\n",
            "Downloading https://zenodo.org/records/5706578/files/Test.zip?download=1 to /root/AML2024/PIDNet/data/LoveDa/Test.zip...\n",
            "Extracted files to /root/AML2024/PIDNet/data/LoveDa/Test\n",
            "Extracted files in /root/AML2024/PIDNet/data/LoveDa/Test: ['Test']\n"
          ]
        }
      ]
    }
  ]
}